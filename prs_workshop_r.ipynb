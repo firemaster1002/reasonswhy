{
  "cells": [
    {
      "cell_type": "markdown",
      "metadata": {
        "id": "24Ilbze6VNQj"
      },
      "source": [
        "<center><h1>Exercise on Polygenic Scoring and Population Structure</h1>\n",
        "<b>Human Genetics of complex traits - 09.11.23</b></br></br>\n",
        "\n",
        "<i><small>Ozvan Bocher (ozvan.bocher@helmholtz-munich.de)</i></small>\n",
        "\n",
        "<i><small>Amabel Tenghe (amabel.tenghe@helmholtz-munich.de)</i></small>\n",
        "</center>\n",
        "</center>\n",
        "\n",
        "# Summary\n",
        "In this exercise, we will apply two polygenic scores to samples come from the 1000 Genomes project, and the two scores are **a polygenic risk score for Coronary Artery Disease (CAD)** and a **polygenic score for levels of the MEP1B protein**. The workshop is composed of two parts. The first one is on polygenic scores and we will perform the following steps:  \n",
        "- Compute the two PRS by hand in R and using Plink\n",
        "- See how well these two scores predict the traits in question\n",
        "- Study the influence of ethnicity, and adjust for it\n",
        "- Examine the polygenicity of these two traits through a genome-wide association.\n",
        "\n",
        "The second part is on population structure where we will perform a PCA on the data and then correct the association tests.\n",
        "\n",
        "During this practical, we will mostly use the R software but we will as well make use of Plink, a very common tool for a wide range of genetic analyses.  \n",
        "There are some optional exercises in the practical that you might want to do if you progress fast.\n",
        "Multiple questions are asked through this notebook. The answers are provided in hidden cells but please try to answer the questions by yourself to get the most of this session.  \n",
        "\n",
        "Use `gc()` from time to time to free up memory."
      ]
    },
    {
      "cell_type": "markdown",
      "metadata": {
        "id": "bxrKvGCEVSrB"
      },
      "source": [
        "# Downloading the data and installing libraries\n",
        "We need following data:\n",
        "\n",
        "\n",
        "*   Polygenic risk score (PGS000337) for CAD\n",
        "*   Polygenic risk score for MET1B\n",
        "*   Genetic data\n",
        "\n",
        "\n",
        "All data is in the following location: https://www.dropbox.com/scl/fo/h0gwms5yhgd44od5fm11s/h?dl=0&rlkey=7ksbrzt4xyeoxkoq2kwrc4omu. We will download the data in the corresponding exercise and unzip it when necessary."
      ]
    },
    {
      "cell_type": "markdown",
      "metadata": {
        "id": "rC7krQ680zvG"
      },
      "source": [
        "We will start by downloading the packages that we will need in R. We need `R (this step will need a few minutes to run).utils` and `manqq`.   \n",
        "We will use the classical R libraries to import and export files as it is easier to use. Nevertheless, be aware that genetic files can be large and this can take a lot of memory and computation time in R. The library `data.table` can be useful to answer this issue and codes with how to use this library will be provided throughout this notebook."
      ]
    },
    {
      "cell_type": "code",
      "execution_count": null,
      "metadata": {
        "colab": {
          "background_save": true,
          "base_uri": "https://localhost:8080/"
        },
        "id": "PbI-fues0xdw",
        "outputId": "9f2375cf-8240-4c05-bd29-e76a541ad1f9"
      },
      "outputs": [
        {
          "output_type": "stream",
          "name": "stderr",
          "text": [
            "Installing package into ‘/usr/local/lib/R/site-library’\n",
            "(as ‘lib’ is unspecified)\n",
            "\n",
            "also installing the dependencies ‘R.oo’, ‘R.methodsS3’\n",
            "\n",
            "\n",
            "Downloading GitHub repo hmgu-itg/man_qq_annotate@HEAD\n",
            "\n"
          ]
        },
        {
          "output_type": "stream",
          "name": "stdout",
          "text": [
            "findpython (NA    -> 1.0.8 ) [CRAN]\n",
            "openssl    (2.0.6 -> 2.1.1 ) [CRAN]\n",
            "curl       (5.0.2 -> 5.1.0 ) [CRAN]\n",
            "argparse   (NA    -> 2.2.2 ) [CRAN]\n",
            "zoo        (NA    -> 1.8-12) [CRAN]\n",
            "assertthat (NA    -> 0.2.1 ) [CRAN]\n",
            "rjson      (NA    -> 0.2.21) [CRAN]\n"
          ]
        },
        {
          "output_type": "stream",
          "name": "stderr",
          "text": [
            "Installing 7 packages: findpython, openssl, curl, argparse, zoo, assertthat, rjson\n",
            "\n",
            "Installing packages into ‘/usr/local/lib/R/site-library’\n",
            "(as ‘lib’ is unspecified)\n",
            "\n"
          ]
        },
        {
          "output_type": "stream",
          "name": "stdout",
          "text": [
            "\u001b[36m──\u001b[39m \u001b[36mR CMD build\u001b[39m \u001b[36m─────────────────────────────────────────────────────────────────\u001b[39m\n",
            "* checking for file ‘/tmp/RtmpdOQ9d5/remotes13147cb352b/hmgu-itg-man_qq_annotate-546fe4f/DESCRIPTION’ ... OK\n",
            "* preparing ‘manqq’:\n",
            "* checking DESCRIPTION meta-information ... OK\n",
            "* checking for LF line-endings in source and make files and shell scripts\n",
            "* checking for empty or unneeded directories\n",
            "* building ‘manqq_0.2.4.tar.gz’\n",
            "\n"
          ]
        },
        {
          "output_type": "stream",
          "name": "stderr",
          "text": [
            "Installing package into ‘/usr/local/lib/R/site-library’\n",
            "(as ‘lib’ is unspecified)\n",
            "\n",
            "Installing package into ‘/usr/local/lib/R/site-library’\n",
            "(as ‘lib’ is unspecified)\n",
            "\n",
            "also installing the dependency ‘calibrate’\n",
            "\n",
            "\n",
            "Installing package into ‘/usr/local/lib/R/site-library’\n",
            "(as ‘lib’ is unspecified)\n",
            "\n"
          ]
        }
      ],
      "source": [
        "install.packages('R.utils')\n",
        "devtools::install_github(\"hmgu-itg/man_qq_annotate\")\n",
        "install.packages('qqman')\n",
        "install.packages('data.table')"
      ]
    },
    {
      "cell_type": "markdown",
      "metadata": {
        "id": "wlYSTDpD18aK"
      },
      "source": [
        "Now, let's install the `plink` software:"
      ]
    },
    {
      "cell_type": "code",
      "execution_count": null,
      "metadata": {
        "id": "q7Q0vSysEN-1"
      },
      "outputs": [],
      "source": [
        "cat(system(\"wget https://s3.amazonaws.com/plink1-assets/plink_linux_x86_64_20210606.zip\", intern=T), sep=\"\\n\")\n",
        "cat(system(\"unzip plink_linux_x86_64_20210606.zip\", intern=T), sep=\"\\n\")\n",
        "cat(system(\"rm prettify toy.* LICENSE\", intern=T), sep=\"\\n\")\n",
        "cat(system('./plink --help', intern=T), sep=\"\\n\")"
      ]
    },
    {
      "cell_type": "markdown",
      "metadata": {
        "id": "yRvj7O9V6_hF"
      },
      "source": [
        "# **PGS**\n",
        "## Importing scores\n",
        "As previously mentionned, we will study to PGS, one for CAD and the other for the MEP1B protein levels. These scores were computed on large studies and a publicly available. We will start by importing the summary statistics for the variants used to construct the two scores.\n",
        "\n",
        "\n",
        "**Exercise 1:**\n",
        "- Import the data from the dropbox: https://www.dropbox.com/s/4083718iyo46nw2/liftedover.CAD.score?dl=1 for CAD and https://www.dropbox.com/s/o71gg622t2vnjqu/MEP1B.gilly.prs.txt?dl=1 for MEP1B. Use `read.table()` to do so.\n",
        "- If needed, create an `id` column corresponding to chr`chromosome_number`:`position`\n",
        "- For both traits, export a file containing the columns `id`, `effect_allele` and `effect_weight` (rename the columns of the file if necessary). These files should be name `CAD.score` and `MEP1B.score`.\n",
        "\n",
        "**Question 1:** How many variants compose the two scores ?"
      ]
    },
    {
      "cell_type": "code",
      "execution_count": null,
      "metadata": {
        "id": "o5e2H1V73tEw",
        "cellView": "form"
      },
      "outputs": [],
      "source": [
        "#@title Scores importation\n",
        "cadscore = read.table(\"https://www.dropbox.com/s/4083718iyo46nw2/liftedover.CAD.score?dl=1\")\n",
        "mepscore=read.table(\"https://www.dropbox.com/s/o71gg622t2vnjqu/MEP1B.gilly.prs.txt?dl=1\", header = TRUE)"
      ]
    },
    {
      "cell_type": "code",
      "execution_count": null,
      "metadata": {
        "id": "LmkySIlO8ZXa",
        "cellView": "form"
      },
      "outputs": [],
      "source": [
        "#@title Get id column\n",
        "head(cadscore)\n",
        "colnames(cadscore) <- c(\"chr_name\", \"chr_position\", \"effect_allele\", \"effect_weight\", \"id_alleles\", \"id\")\n",
        "head(mepscore)\n",
        "mepscore$id <- paste0(\"chr\", mepscore$chr, \":\", mepscore$pos)"
      ]
    },
    {
      "cell_type": "code",
      "execution_count": null,
      "metadata": {
        "id": "4Q7MIuNd9CJX",
        "cellView": "form"
      },
      "outputs": [],
      "source": [
        "#@title Export the files\n",
        "write.table(cadscore[,c(\"id\", \"effect_allele\", \"effect_weight\")], \"CAD.score\", sep=\"\\t\", col.names=F, quote=F, row.names = F)\n",
        "write.table(mepscore[,c(\"id\", \"A1\", \"effect\")], \"MEP1B.score\", sep=\"\\t\", col.names=F, quote=F, row.names = F)"
      ]
    },
    {
      "cell_type": "code",
      "execution_count": null,
      "metadata": {
        "id": "3jdxPtK7-xq0",
        "cellView": "form"
      },
      "outputs": [],
      "source": [
        "#@title Answer question 1\n",
        "cat(\"CAD PGS is composed of\", nrow(cadscore), \"variants\\n\")\n",
        "cat(\"MEP1B PGS is composed of\", nrow(mepscore), \"variants\\n\")"
      ]
    },
    {
      "cell_type": "code",
      "execution_count": null,
      "metadata": {
        "cellView": "form",
        "id": "-4TEKL5x9auP"
      },
      "outputs": [],
      "source": [
        "#@title **Optional** Alternative using the data.table library\n",
        "library(data.table)\n",
        "cadscore = fread(\"https://www.dropbox.com/s/4083718iyo46nw2/liftedover.CAD.score?dl=1\")\n",
        "cadscore[,id:=paste0(\"chr\", V1, \":\", V2)]\n",
        "cadscore = cadscore[, .(chr_name=V1, chr_position=V2, effect_allele=V3, effect_weight=V4, id)]\n",
        "fwrite(cadscore[,c(\"id\", \"effect_allele\", \"effect_weight\")], \"CAD.score\", sep=\"\\t\", col.names=F, quote=F)\n",
        "\n",
        "#With MEP1B\n",
        "mepscore=fread(\"https://www.dropbox.com/s/o71gg622t2vnjqu/MEP1B.gilly.prs.txt?dl=1\")\n",
        "mepscore[,id:=paste0(\"chr\", chr, \":\", pos)]\n",
        "head(mepscore)\n",
        "fwrite(mepscore[,c(\"id\", \"A1\", \"effect\")], \"MEP1B.score\", sep=\"\\t\", col.names=F, quote=F)"
      ]
    },
    {
      "cell_type": "markdown",
      "metadata": {
        "id": "KujnAQgeYQ_a"
      },
      "source": [
        "## Applying scores\n",
        "We will now apply the scores to the individuals from the 1000Genome project gathering 2504 individuals. From the lecture, you will remember that we need genotype data for these individuals as well as the weights contained in the score files above. We will first use R to manually compute these PRS and then Plink, a popular genetic toolbox installed in this environment."
      ]
    },
    {
      "cell_type": "markdown",
      "metadata": {
        "id": "lHRV58ozYfen"
      },
      "source": [
        "# Method 1: Manually applying scores (R)"
      ]
    },
    {
      "cell_type": "markdown",
      "metadata": {
        "id": "8F_MsYEcbCDm"
      },
      "source": [
        "**Exercise 2**: We will start by loading the genetic file autosomal.forPRS.mx.traw file.\n",
        "- Get the data from https://www.dropbox.com/s/civmjfv89ou72cc/PRS.course.forscore.tar.gz using `system` and `wget`\n",
        "- Untar the data\n",
        "- Import the genotypes (file autosomal.forPRS.mx.traw) and the individual information (file autosomal.forPRS.fam) in R using `read.table`. The matrix of genotypes has positions as rows and samples as columns. There are 7 \"header\" columns describing each position.\n",
        "- Save the names of the samples present in the genotype matrix\n",
        "\n",
        "**Question 2**: How many variants are present in the genotype file ? How many individuals are in the genotype matrix and in the fam file ?"
      ]
    },
    {
      "cell_type": "code",
      "execution_count": null,
      "metadata": {
        "colab": {
          "background_save": true
        },
        "id": "IT-gToNmAD-9",
        "cellView": "form",
        "outputId": "2bde5d82-33f6-4a27-8a6d-b5fdec3d3ebe"
      },
      "outputs": [
        {
          "name": "stdout",
          "output_type": "stream",
          "text": [
            "\n",
            "\n"
          ]
        }
      ],
      "source": [
        "#@title Download and untar data\n",
        "cat(system('wget https://www.dropbox.com/s/civmjfv89ou72cc/PRS.course.forscore.tar.gz', intern=T), sep=\"\\n\")\n",
        "cat(system('tar -xf PRS.course.forscore.tar.gz', intern=T), sep=\"\\n\")"
      ]
    },
    {
      "cell_type": "code",
      "execution_count": null,
      "metadata": {
        "id": "llDy_LBS5plW",
        "cellView": "form"
      },
      "outputs": [],
      "source": [
        "#@title Import genotypes and fam files\n",
        "genos=read.table(\"autosomal.forPRS.mx.traw\", header = TRUE)\n",
        "famfile=read.table(\"autosomal.forPRS.fam\")\n",
        "head(genos)\n",
        "head(famfile)"
      ]
    },
    {
      "cell_type": "code",
      "execution_count": null,
      "metadata": {
        "id": "h_pzlK2o8HxZ",
        "cellView": "form"
      },
      "outputs": [],
      "source": [
        "#@title Save the names of the samples\n",
        "spnames=colnames(genos)[7:ncol(genos)]\n",
        "length(spnames)"
      ]
    },
    {
      "cell_type": "code",
      "execution_count": null,
      "metadata": {
        "id": "f1JYwGzK6NiR",
        "cellView": "form"
      },
      "outputs": [],
      "source": [
        "#@title Answer question 2\n",
        "cat(\"There are\", nrow(genos), \"variants in the genotype matrix\\n\")\n",
        "cat(\"There are\", ncol(genos)-6, \"individuals in the genotype matrix\\n\")\n",
        "cat(\"There are\", nrow(famfile), \"individuals in the fam file\\n\")"
      ]
    },
    {
      "cell_type": "code",
      "execution_count": null,
      "metadata": {
        "cellView": "form",
        "id": "SkRH6Ek2cUEg"
      },
      "outputs": [],
      "source": [
        "#@title **Optional** Alternative using the data.table library\n",
        "genos=data.table::fread(\"autosomal.forPRS.mx.traw\")\n",
        "famfile=fread(\"autosomal.forPRS.fam\")"
      ]
    },
    {
      "cell_type": "markdown",
      "metadata": {
        "id": "jdRebr1z23aC"
      },
      "source": [
        "**Exercise 3:** Apply the MEP1B score by:\n",
        "- create a genotype matrix restricted to the MEP1B positions\n",
        "- apply an element-wise multiplication column by column, and sum the weighted genotypes:  $score_j=∑_{i∈SNPs}w_i∗g_i$  where  $i$  denotes SNPs and  $j$  denotes individuals. Hint: use the functions `colSums()` and `apply()`\n",
        "- Look at the distribution of the score with `hist`.\n",
        "\n",
        "**Question 3:** What can you say about this distribution ?"
      ]
    },
    {
      "cell_type": "code",
      "execution_count": null,
      "metadata": {
        "id": "9OBAJLBeCzTL",
        "cellView": "form"
      },
      "outputs": [],
      "source": [
        "#@title Apply the MEP1B score\n",
        "mepg = subset(genos, SNP %in% mepscore$id)\n",
        "mepg\n",
        "mepg.score <- colSums(apply(mepg[, spnames], 2, function(x) x*mepscore$effect))"
      ]
    },
    {
      "cell_type": "code",
      "execution_count": null,
      "metadata": {
        "cellView": "form",
        "id": "ZYY9LgNcDk6O"
      },
      "outputs": [],
      "source": [
        "#@title Distribution of MEP1B score\n",
        "hist(mepg.score)\n",
        "hist(mepg.score, breaks = 40)\n",
        "#The MEP1B score deviates markedly from the normal assumption."
      ]
    },
    {
      "cell_type": "markdown",
      "metadata": {
        "id": "d2P11OTOEzDG"
      },
      "source": [
        "**Exercise 4:** CAD score\n",
        "- Combine the information of the genotype matrix and the CAD scores using the `merge()` function in R\n",
        "\n",
        "**Question 4:**\n",
        "- Are all of the positions used in the CAD score present in the genotype matrix ?\n",
        "- Is there a perfect match between the effect alleles of the scores and the ones in the genotype matrix ?"
      ]
    },
    {
      "cell_type": "code",
      "execution_count": null,
      "metadata": {
        "cellView": "form",
        "id": "pbgg9kbqEyi-"
      },
      "outputs": [],
      "source": [
        "#@title Combine genotypes and CAD scores information\n",
        "head(cadscore)\n",
        "head(genos)\n",
        "cadg=merge(cadscore, genos, by.x=\"id\", by.y=\"SNP\", sort = F)\n"
      ]
    },
    {
      "cell_type": "code",
      "execution_count": null,
      "metadata": {
        "cellView": "form",
        "id": "xSH2bjWLPA5U"
      },
      "outputs": [],
      "source": [
        "#@title Answer question 4\n",
        "dim(cadscore)\n",
        "dim(cadg)\n",
        "#All of the variants used for the CAD score are not present in the genotype matrix\n",
        "all(cadg$effect_allele == cadg$COUNTED)\n",
        "head(cadg[,c(\"id\", \"effect_allele\", \"effect_weight\", \"COUNTED\", \"ALT\")])\n",
        "#Even when the positions are present, the alleles can be different. For example, the effect allele for position 1:1236037 in the score is T whil it is C in the genotype data\n",
        "#We will have to solve this issue before applying the CAD score"
      ]
    },
    {
      "cell_type": "markdown",
      "metadata": {
        "id": "F-qLDDzUPxaZ"
      },
      "source": [
        "**Exercise 5:** Apply the CAD score:\n",
        "- If the alleles are flipped between the score and the genotype matrix, take the opposite of the effect\n",
        "- Compute CAD score for each individual by applying an element-wise multiplication column by column as before\n",
        "- Create a data frame `cadg.mepg.scores` with the following columns: `id`, `CAD.manual` and `MEP1B.manual`. It will be used later to compare the results with the ones from the `plink` software.\n",
        "\n",
        "**Question 5:** What do you think about the distribution of the CAD score ?"
      ]
    },
    {
      "cell_type": "code",
      "execution_count": null,
      "metadata": {
        "cellView": "form",
        "id": "dvk6o-3QQjO2"
      },
      "outputs": [],
      "source": [
        "#@title Exercise 5\n",
        "# If the effect allele is the ALT allele, inverse the effect\n",
        "cadg[which(cadg$ALT == cadg$effect_allele), \"effect_weight\"] <- -cadg[which(cadg$ALT == cadg$effect_allele), \"effect_weight\"]\n",
        "head(cadg)\n",
        "#Compute the score\n",
        "cadg.score <- colSums(apply(cadg[,spnames], 2, function(x) x*cadg$effect_weight), na.rm = TRUE)"
      ]
    },
    {
      "cell_type": "code",
      "execution_count": null,
      "metadata": {
        "cellView": "form",
        "id": "r1NlLUeWdDgb"
      },
      "outputs": [],
      "source": [
        "#@title Combine the results\n",
        "cadg.score=data.frame(id=names(cadg.score), CAD.manual=cadg.score)\n",
        "mepg.score=data.frame(id=names(mepg.score), MEP1B.manual=mepg.score)\n",
        "cadg.mepg.scores <- cadg.score\n",
        "cadg.mepg.scores$MEP1B.manual <- mepg.score[cadg.score$id, \"MEP1B.manual\"]\n",
        "head(cadg.mepg.scores)"
      ]
    },
    {
      "cell_type": "code",
      "execution_count": null,
      "metadata": {
        "cellView": "form",
        "id": "WRUiAuIzQ7QR"
      },
      "outputs": [],
      "source": [
        "#@title Answer question 5\n",
        "hist(cadg.score$CAD.manual, breaks = 40)\n",
        "#The CAD score is normally distributed, which is expected from a PGS of a highly polygenic trait"
      ]
    },
    {
      "cell_type": "code",
      "execution_count": null,
      "metadata": {
        "cellView": "form",
        "id": "VQX3iD_TcXlZ"
      },
      "outputs": [],
      "source": [
        "#@title **Optional** Alternative using the data.table library\n",
        "#MEP1B\n",
        "mepg=genos[SNP %in% mepscore$id]\n",
        "mepg\n",
        "mepg.score=colSums(mepg[,lapply(.SD, function(x) x*mepscore$effect), .SDcol=spnames])\n",
        "#CAD\n",
        "cadg[,eff:=effect_weight]\n",
        "cadg[effect_allele==ALT,eff:=-1*eff]\n",
        "cadg=cadg[effect_allele==ALT | effect_allele == COUNTED]\n",
        "cadg=cadg[,lapply(.SD, function(x) sum(x*eff, na.rm=T)), .SDcol=spnames]"
      ]
    },
    {
      "cell_type": "code",
      "execution_count": null,
      "metadata": {
        "id": "_7w3JxlSciic"
      },
      "outputs": [],
      "source": [
        "rm(genos)  # to free up memory space\n",
        "gc()  # to free up memory space"
      ]
    },
    {
      "cell_type": "markdown",
      "metadata": {
        "id": "Wsq-R57XSVCb"
      },
      "source": [
        "# Method 2: Applying scores using Plink\n",
        "We will now use the plink software to compute the scores. To have more information on how to proceed, use:  \n",
        "`cat(system('./plink --help', intern=T), sep=\"\\n\")`   \n",
        "\n",
        "**Exercise 6:**\n",
        "- Apply the scores to `autosomal.forPRS` using `CAD.score` and `MET1B.score`\n",
        "- Import the results `CAD.profile` and `MEP1B.profile` to `R`\n",
        "- Merge all the scores with the previous dataframe\n",
        "- Compute the correlations between the scores computed in `R` or in `plink` for CAD and MEP1B\n",
        "\n",
        "**Question 6:** You should observe some differences for CAD, where do you think they come from ?"
      ]
    },
    {
      "cell_type": "code",
      "execution_count": null,
      "metadata": {
        "cellView": "form",
        "id": "wZn870hTGUEz"
      },
      "outputs": [],
      "source": [
        "#@title Apply the scores using plink\n",
        "cat(system('./plink --bfile autosomal.forPRS --score CAD.score --out CAD', intern=T), sep=\"\\n\")\n",
        "cat(system('./plink --bfile autosomal.forPRS --score MEP1B.score --out MEP1B', intern=T), sep=\"\\n\")"
      ]
    },
    {
      "cell_type": "code",
      "execution_count": null,
      "metadata": {
        "cellView": "form",
        "id": "dT7W8VsbGeqN"
      },
      "outputs": [],
      "source": [
        "#@title Import the computed scores and combine with R-made scores\n",
        "cadsc = read.table(\"CAD.profile\", header = TRUE)\n",
        "mepsc = read.table(\"MEP1B.profile\", header = TRUE)\n",
        "head(cadsc) ; head(mepsc)\n",
        "cadsc$id <- paste0(cadsc$FID, \"_\", cadsc$IID)\n",
        "mepsc$id <- paste0(mepsc$FID, \"_\", mepsc$IID)\n",
        "allscores=merge(cadg.mepg.scores, cadsc[,c(\"id\", \"SCORE\")], by=\"id\", sort = FALSE)\n",
        "colnames(allscores)[4] <- \"CAD.Plink\"\n",
        "allscores=merge(allscores, mepsc[,c(\"id\", \"SCORE\")], by=\"id\")\n",
        "colnames(allscores)[5] <- \"MEP1B.Plink\"\n",
        "dim(allscores)\n",
        "head(allscores)"
      ]
    },
    {
      "cell_type": "code",
      "execution_count": null,
      "metadata": {
        "cellView": "form",
        "id": "4SExsznrHj6f"
      },
      "outputs": [],
      "source": [
        "#@title Correlation between the scores\n",
        "cor(allscores[,-1])\n",
        "#Question6: We see a slight discrepancy between the manual and Plink-generated CAD scores.\n",
        "#This is likely due to our imperfect allele matching, PLINK is more conservative as it only keeps variants where effect alleles concord."
      ]
    },
    {
      "cell_type": "markdown",
      "metadata": {
        "id": "_Hq69Enldrxy"
      },
      "source": [
        "# Predictive accuracy of MEP1B levels and CAD events\n",
        "We will now look at the predictive accuracy of the two scores by looking at the actual phenotypes of individuals for those two traits. This informaiton is available for a cohort of 1000 individuals representing a subset of the 1000Genomes project.\n",
        "\n",
        "**Exercise 7**:\n",
        "- Load the CAD (https://www.dropbox.com/s/xs7wsgij95w2uau/CAD.phenotype?dl=1) and MEP1B phenotypes (https://www.dropbox.com/s/5rmhjmv0d6oqxpr/MEP1B.phenotype?dl=1).\n",
        "- Import the data in `R` and add the phenotype to the files gathering all scores\n",
        "- Plot the scores according to the phenotypes\n",
        "- Compute the Pearson's correlation for MEP1B\n",
        "- Get the top and bottom deciles of the distribution for CAD using the function `quantiles()`.\n",
        "- Compute the odds ratio for people in the top vs bottom deciles of the distribution for CAD. Remember that $OR=Odds_{Q2}/Odds_{Q1}$ with $Odds_{Q1}=P(Case/Q1)/P(Control/Q1)$\n",
        "\n",
        "**Question 7:** What can you say about the predictive accuracy of both scores?"
      ]
    },
    {
      "cell_type": "code",
      "execution_count": null,
      "metadata": {
        "cellView": "form",
        "id": "bse1lbjtdQ_I"
      },
      "outputs": [],
      "source": [
        "#@title Download phenotypes and import in R\n",
        "rCAD=read.table(\"https://www.dropbox.com/s/xs7wsgij95w2uau/CAD.phenotype?dl=1\")\n",
        "rMEP=read.table(\"https://www.dropbox.com/s/5rmhjmv0d6oqxpr/MEP1B.phenotype?dl=1\")\n",
        "colnames(rCAD) <- c(\"id\", \"CADpheno\")\n",
        "colnames(rMEP) <- c(\"id\", \"MEP1Bpheno\")\n",
        "allscores.pheno=merge(allscores, rCAD, by=\"id\")\n",
        "allscores.pheno=merge(allscores.pheno, rMEP, by=\"id\")\n",
        "head(allscores.pheno)\n",
        "dim(allscores.pheno)"
      ]
    },
    {
      "cell_type": "code",
      "execution_count": null,
      "metadata": {
        "cellView": "form",
        "id": "Q4McIVgyJvRz"
      },
      "outputs": [],
      "source": [
        "#@title Graphical representations\n",
        "plot(allscores.pheno$MEP1Bpheno, allscores.pheno$MEP1B.Plink, col=\"cornflowerblue\", pch=20, main = \"MEP1B\")\n",
        "boxplot(allscores.pheno$CAD.Plink ~ allscores.pheno$CADpheno, col=\"cornflowerblue\", pch=20, main = \"CAD\")"
      ]
    },
    {
      "cell_type": "code",
      "execution_count": null,
      "metadata": {
        "cellView": "form",
        "id": "XMQFZ6hiiRDq"
      },
      "outputs": [],
      "source": [
        "#@title Correlation MEP1B and quantiles CAD\n",
        "cor(allscores.pheno$MEP1Bpheno, allscores.pheno$MEP1B.Plink)\n",
        "cadq=quantile(allscores.pheno$CAD.Plink, c(0.1, 0.9))\n",
        "cadq"
      ]
    },
    {
      "cell_type": "code",
      "execution_count": null,
      "metadata": {
        "cellView": "form",
        "id": "HIN3L2gwWH1h"
      },
      "outputs": [],
      "source": [
        "#@title OR CAD\n",
        "#Compute the Odds for quantile 1\n",
        "Q1=table(allscores.pheno[which(allscores.pheno$CAD.Plink<cadq[1]),]$CADpheno)\n",
        "Q1\n",
        "OddsQ1 = Q1[2]/Q1[1]\n",
        "Q2=table(allscores.pheno[which(allscores.pheno$CAD.Plink>cadq[2]),]$CADpheno)\n",
        "Q2\n",
        "OddsQ2 = Q2[2]/Q2[1]\n",
        "OR=OddsQ2/OddsQ1\n",
        "OR\n",
        "#Question 7:\n",
        "#The CAD OR is high, highlighting the fact that the predictive value of the corresponding score is good.\n",
        "#The correlation for MEP1B is quite low, highlighting a moderate prediction value of this score."
      ]
    },
    {
      "cell_type": "markdown",
      "metadata": {
        "id": "uDH761CviqKn"
      },
      "source": [
        "# **PRS and Polygenicity**\n",
        "Until now, we have applied two genetic risk scores and examined how well they predict actual phenotypes. We will now examine what these scores can tell us about the genetic architecture of these traits."
      ]
    },
    {
      "cell_type": "markdown",
      "metadata": {
        "id": "x69J8Kdhit4t"
      },
      "source": [
        "**Question 8**: How many variants are present in each score (see `Question 1`)? Does that correspond to what you know of the genetic architecture of both traits?"
      ]
    },
    {
      "cell_type": "code",
      "execution_count": null,
      "metadata": {
        "cellView": "form",
        "id": "RI-XPs8Aivkm"
      },
      "outputs": [],
      "source": [
        "#@title Question 8\n",
        "nrow(cadscore)\n",
        "nrow(mepscore)\n",
        "#MEP1B is a protein trait, it is expected to be much less polygenic than CAD which is a complex trait."
      ]
    },
    {
      "cell_type": "markdown",
      "metadata": {
        "id": "_1b2NPAuizqG"
      },
      "source": [
        "**Exercise 9**: Perform a genome-wide association, using teh CAD score profile as a phenotype.\n",
        "- Create a properly fromatted `.pheno` file for each score containing the columns `FID`, `IID`, `CAD.Plink`/`MEP1B.Plink` and write it to `CAD.pheno`/`MEP1B.pheno`\n",
        "- Download and untar the genotype data (https://www.dropbox.com/s/yjqt5bl5xgrssyj/PRS.course.geno.tar.gz)\n",
        "- Use PLINK's `--assoc` flag to run the association analysis for CAD\n",
        "- Import the results in R, remove the variants with NA pvalues and use `manqq::fastqq(P)` to visualise the results.\n",
        "\n",
        "**Question 9:** What can you say about these association results? What can be the cause ?"
      ]
    },
    {
      "cell_type": "code",
      "execution_count": null,
      "metadata": {
        "cellView": "form",
        "id": "DAfbvn2OK0pC"
      },
      "outputs": [],
      "source": [
        "#@title Create the pheno files\n",
        "#CAD\n",
        "pheno.CAD = allscores[,c(\"id\", \"CAD.Plink\")]\n",
        "split.ID <- do.call(rbind,strsplit(pheno.CAD$id, split = \"_\"))\n",
        "pheno.CAD$FID <- split.ID[,1]\n",
        "pheno.CAD$IID <- split.ID[,2]\n",
        "write.table(pheno.CAD[,c(\"FID\", \"IID\", \"CAD.Plink\")], \"CAD.pheno\", sep = \"\\t\", row.names = FALSE, col.names = FALSE, quote = FALSE)\n",
        "#MEP1B\n",
        "pheno.MEP1B = allscores[,c(\"id\", \"MEP1B.Plink\")]\n",
        "pheno.MEP1B$FID <- split.ID[,1]\n",
        "pheno.MEP1B$IID <- split.ID[,2]\n",
        "write.table(pheno.MEP1B[,c(\"FID\", \"IID\", \"MEP1B.Plink\")], \"MEP1B.pheno\", sep = \"\\t\", row.names = FALSE, col.names = FALSE, quote = FALSE)\n"
      ]
    },
    {
      "cell_type": "code",
      "execution_count": null,
      "metadata": {
        "cellView": "form",
        "id": "YZgbVbIGNHwk"
      },
      "outputs": [],
      "source": [
        "#@title Download and untar data\n",
        "cat(system('wget https://www.dropbox.com/s/yjqt5bl5xgrssyj/PRS.course.geno.tar.gz', intern=T), sep=\"\\n\")\n",
        "cat(system('tar -xf PRS.course.geno.tar.gz', intern=T), sep=\"\\n\")\n"
      ]
    },
    {
      "cell_type": "code",
      "execution_count": null,
      "metadata": {
        "cellView": "form",
        "id": "zPbGVGpOi-GW"
      },
      "outputs": [],
      "source": [
        "#@title Run the association analyses\n",
        "cat(system('./plink --bfile PRS.course.testset --pheno CAD.pheno --allow-no-sex --assoc --out CAD 2>&1', intern=T), sep=\"\\n\")"
      ]
    },
    {
      "cell_type": "code",
      "execution_count": null,
      "metadata": {
        "cellView": "form",
        "id": "MVBOdnvGbik2"
      },
      "outputs": [],
      "source": [
        "#@title Import and visualise the results\n",
        "library(manqq)\n",
        "outcad=read.table(\"CAD.qassoc\", header = TRUE)\n",
        "head(outcad)\n",
        "outcad=subset(outcad, !is.na(outcad$P))\n",
        "fastqq(outcad$P)\n",
        "#Question 9\n",
        "#There is a large inflation of the association test.\n",
        "#We can see it both with the QQ-plot and with the lambda value that is largely above 1.\n",
        "#There is therefore a misspecification in our model.\n",
        "#Here we work on the data from the 1000Genomes project.\n",
        "#This cohort is multiethnic, and there is therefore a strong chance that some score variants will be correlated with ethnicity"
      ]
    },
    {
      "cell_type": "code",
      "execution_count": null,
      "metadata": {
        "cellView": "form",
        "id": "zJ3QxpWhdIWJ"
      },
      "outputs": [],
      "source": [
        "#@title **Optional** Alternative using the data.table library\n",
        "pheno=allscores[,c(\"id\", \"CAD..Plink\")]\n",
        "pheno[,c(\"FID\", \"IID\"):=tstrsplit(id, \"_\")]\n",
        "pheno[,id:=NULL]\n",
        "setcolorder(pheno, c(2,3,1))\n",
        "fwrite(pheno, \"CAD.pheno\", sep=\"\\t\", quote=F, col.names=F)\n",
        "#After running the association test\n",
        "outcad=fread(\"CAD.qassoc\")\n",
        "outcad=outcad[!is.na(outcad$P)]\n",
        "fastqq(outcad$P)"
      ]
    },
    {
      "cell_type": "markdown",
      "metadata": {
        "id": "84GXKxA3dvkQ"
      },
      "source": [
        "# **Population Structure**\n",
        "We will check in the following steps if we have indeed a population structure in our data. If present, we will correct the association test for it and have another look at the results.\n",
        "\n",
        "**NOTE** Exercice 10 is **optional**, you can directly move to Exercise 12 if you run out of time."
      ]
    },
    {
      "cell_type": "markdown",
      "metadata": {
        "id": "snZQZ_1bd6bk"
      },
      "source": [
        "**Exercise 10:** Check for population structure in the data using a PCA. We need to do a clumping before running this PCA.\n",
        "- Perform clumping sing PLINK's `--indep-pairwise` flag in 200kb regions, shifting windows every 50 variants and using a $r^2$ threshold of 0.25\n",
        "- Perform a PCA using the `--pca` flag on the pruned data by computing **10** principal components (use `--extract` to select SNPs in the data)\n"
      ]
    },
    {
      "cell_type": "code",
      "execution_count": null,
      "metadata": {
        "cellView": "form",
        "id": "m_r2FlTafB0q"
      },
      "outputs": [],
      "source": [
        "#@title Pruning\n",
        "cat(system('./plink --bfile PRS.course.testset --indep-pairwise 200 50 0.25 --out PRS.course.testset.clumping', intern=T), sep=\"\\n\")"
      ]
    },
    {
      "cell_type": "code",
      "execution_count": null,
      "metadata": {
        "cellView": "form",
        "id": "1RWUHuEcbBm0"
      },
      "outputs": [],
      "source": [
        "#@title PCA\n",
        "cat(system('./plink --bfile PRS.course.testset --extract PRS.course.testset.clumping.prune.in --pca 10 --out PRS.course.testset.pca', intern = T), sep = \"\\n\")\n"
      ]
    },
    {
      "cell_type": "markdown",
      "metadata": {
        "id": "KMDSLFrgUBVe"
      },
      "source": [
        "**Exercise 11:** PCA plot.\n",
        "- Import the PCs in R (file `.eigenvec`). If you havn't done exercise 11, download the file https://www.dropbox.com/s/letu9kh93ammlhh/PRS.course.testset.pca.eigenvec\n",
        "\n",
        "**Question 11:** Plot PC1 and PC2. Do you see any population structure ?"
      ]
    },
    {
      "cell_type": "code",
      "execution_count": null,
      "metadata": {
        "cellView": "form",
        "id": "Aj21cJ6of4cE"
      },
      "outputs": [],
      "source": [
        "#@title Import and plot PCs\n",
        "PCs <- read.table(\"PRS.course.testset.pca.eigenvec\")\n",
        "colnames(PCs) <- c(\"IID\", \"FID\", paste0(\"PC\", 1:10))\n",
        "head(PCs)\n",
        "#Plot PC1 and PC2\n",
        "plot(PCs$PC1, PCs$PC2, pch = 20)\n",
        "#Question 11\n",
        "#We can see that there is a clear structure in the data as we do not have one homogeneous group of individuals.\n",
        "#This is probably the cause of the inflation of our association test."
      ]
    },
    {
      "cell_type": "markdown",
      "metadata": {
        "id": "UidbCWEIgk4g"
      },
      "source": [
        "**Exercise 12 (OPTIONAL):** Plot the ancestry of the individuals\n",
        "\n",
        "- Download the file containing information about the individuals using `wget` (https://www.dropbox.com/s/ump64d155fqt8uz/igsr_samples_popinfo.txt) and import it in R\n",
        "- Merge the data with the PCs\n",
        "- Redo the plot with color depending on Superpopulation\n",
        "\n",
        "**Question 12:** What do you observe ?"
      ]
    },
    {
      "cell_type": "code",
      "execution_count": null,
      "metadata": {
        "cellView": "form",
        "id": "FEHbB4X6jEl5"
      },
      "outputs": [],
      "source": [
        "#@title Ancestry of individuals\n",
        "cat(system('wget https://www.dropbox.com/s/ump64d155fqt8uz/igsr_samples_popinfo.txt', intern=T), sep=\"\\n\")\n",
        "samples.info <- read.table(\"igsr_samples_popinfo.txt\", header = T)\n",
        "PCs.ancestry <- merge(PCs, samples.info, by.x = \"IID\", by.y = \"Sample\")\n",
        "head(PCs.ancestry)"
      ]
    },
    {
      "cell_type": "code",
      "execution_count": null,
      "metadata": {
        "cellView": "form",
        "id": "1uuL6OAehsrI"
      },
      "outputs": [],
      "source": [
        "#@title PCA plot\n",
        "PCs.ancestry$Superpopulation <- factor(PCs.ancestry$Superpopulation)\n",
        "plot(PCs.ancestry$PC1, PCs.ancestry$PC2, pch = 20, col = PCs.ancestry$Superpopulation)\n",
        "legend(\"bottomleft\", legend = levels(PCs.ancestry$Superpopulation), pch = 20, col = 1:nlevels(PCs.ancestry$Superpopulation))\n",
        "### Question 12\n",
        "#We can distinguish the superpoopulations of the 1000Genomes project.\n",
        "#The population structure is even more striking as before and drives the inflation of our test.\n",
        "#We will adjust the association test on the PCs."
      ]
    },
    {
      "cell_type": "markdown",
      "metadata": {
        "id": "yDcUo8xTkAIq"
      },
      "source": [
        "**Exercise 13:**\n",
        "- Run a GWAS adjusted on the principal components for CAD and MEP1B scores using the `.eigenvec` file in `--covar` flag of PLINK (takes a few minutes to run)\n",
        "- Import and check the validity of the results in `R`\n",
        "\n",
        "**Question 13:** What do you conclude from these results ?"
      ]
    },
    {
      "cell_type": "code",
      "execution_count": null,
      "metadata": {
        "cellView": "form",
        "id": "-bN73r92j_pM"
      },
      "outputs": [],
      "source": [
        "#@title Adjusted GWAS\n",
        "#In case the PCA question has been skipped:\n",
        "#cat(system('wget https://www.dropbox.com/s/letu9kh93ammlhh/PRS.course.testset.pca.eigenvec', intern=T), sep=\"\\n\")\n",
        "cat(system('./plink --pheno CAD.pheno --bfile PRS.course.testset --linear hide-covar --covar PRS.course.testset.pca.eigenvec --out CAD.wPC --allow-no-sex 2>&1', intern=T), sep=\"\\n\")\n",
        "cat(system('./plink --pheno MEP1B.pheno --bfile PRS.course.testset --linear hide-covar --covar PRS.course.testset.pca.eigenvec --out MEP1B.wPC --allow-no-sex 2>&1', intern=T), sep=\"\\n\")"
      ]
    },
    {
      "cell_type": "code",
      "execution_count": null,
      "metadata": {
        "cellView": "form",
        "id": "OF_uHbl8k4yN"
      },
      "outputs": [],
      "source": [
        "#@title Import and visualise the results\n",
        "outcad=read.table(\"CAD.wPC.assoc.linear\", header = TRUE)\n",
        "head(outcad)\n",
        "outcad=subset(outcad, !is.na(outcad$P))\n",
        "fastqq(outcad$P)\n",
        "outmep=read.table(\"MEP1B.wPC.assoc.linear\", header = TRUE)\n",
        "head(outmep)\n",
        "outmep=subset(outmep, !is.na(outmep$P) & outmep$P>0)\n",
        "fastqq(outmep$P)\n",
        "### Question 13:\n",
        "#The QQ-plots look fine and the lambda values are now around 1.\n",
        "#The population structure was indeed what was driving the inflation of the test."
      ]
    },
    {
      "cell_type": "markdown",
      "metadata": {
        "id": "lcvoxEOgkLvC"
      },
      "source": [
        "**Exercise 14:** Build the manhattan plot of the association tests using `manhattan` from `qqman`\n",
        "\n",
        "**Question 14**: What can you deduce from the two manhattan plots about the architecture of these two traits?"
      ]
    },
    {
      "cell_type": "code",
      "execution_count": null,
      "metadata": {
        "cellView": "form",
        "id": "3mYPVy6dmMZQ"
      },
      "outputs": [],
      "source": [
        "#@title Mahattan plots\n",
        "library(qqman)\n",
        "manhattan(outcad, chr = \"CHR\", bp = \"BP\", snp=\"SNP\", p=\"P\", main = \"CAD\")\n",
        "manhattan(outmep, chr = \"CHR\", bp = \"BP\", snp=\"SNP\", p=\"P\", main = \"MEP1B\")\n",
        "#Question 14\n",
        "#We can see that while MEP1B is driven by a very strong effect signal that is detectable at current sample size (1000 individuals),\n",
        "#CAD is a much more complex traits where no signal actually reaches significance level.\n",
        "#This hints at GWAS power: proteome association studies can detect effects even with hundreds of samples, whereas complex trait associations require large meta-analyses of hundreds of thousands of samples."
      ]
    },
    {
      "cell_type": "code",
      "execution_count": null,
      "metadata": {
        "cellView": "form",
        "id": "Kqydm471lrFT"
      },
      "outputs": [],
      "source": [
        "#@title **Optional** Alternative using the data.table library\n",
        "cadpc=fread(\"CAD.wPC.assoc.linear\")\n",
        "cadpc=cadpc[!is.na(cadpc$P)]\n",
        "fastqq(cadpc$P)\n",
        "cadpc=cadpc[,c(\"CHR\", \"BP\", \"P\")]\n",
        "setnames(cadpc, c(\"chr\", \"pos\", \"p\"))\n",
        "forgetme=fastmanh(cadpc)\n",
        "meppc=fread(\"MEP1B.wPC.assoc.linear\")\n",
        "meppc=meppc=meppc[!is.na(meppc$P) & meppc$P>0]\n",
        "fastqq(meppc$P)\n",
        "meppc=meppc[,c(\"CHR\", \"BP\", \"P\")]\n",
        "setnames(meppc, c(\"chr\", \"pos\", \"p\"))\n",
        "forgetme=fastmanh(meppc, no_annot=T)"
      ]
    },
    {
      "cell_type": "markdown",
      "metadata": {
        "id": "MDj8xSQbWkiK"
      },
      "source": [
        "# Bonus exercise: lifting over the polygenic score\n",
        "We have worked in this exercise with a CAD score that was obtained after a liftover. The original CAD score was downloaded from the publicly available PGS catalog. Variants in that score are identified by chromosome:position, but are on build 37 (also called hg19) of the human reference genome. Our genetic data is on build 38, and we must therefore first map these coordinates onto that build to apply the PGS to the genetic data. That process is called a liftover. We have provided you the score in the right build for the previous exercise but in this optional exercise, we give you the possibility to perform the liftover.  \n",
        "There are R libraries to do this, but they come from the Bioconductor project, and are clunky and hard to use. We will use an external program called CrossMap.\n"
      ]
    },
    {
      "cell_type": "markdown",
      "metadata": {
        "id": "VcQ_uglEWuw-"
      },
      "source": [
        "**Step 1**:\n",
        "Download the dictionary of positions from build 37 to 38 from the USCS Liftover FTP Website: https://hgdownload.cse.ucsc.edu/goldenpath/hg19/liftOver/hg19ToHg38.over.chain.gz"
      ]
    },
    {
      "cell_type": "code",
      "execution_count": null,
      "metadata": {
        "cellView": "form",
        "id": "22udhwXmWkC7"
      },
      "outputs": [],
      "source": [
        "#@title Downloading the data\n",
        "cat(system('\n",
        "(rm *.chain.gz || echo downloading) && wget https://hgdownload.cse.ucsc.edu/goldenpath/hg19/liftOver/hg19ToHg38.over.chain.gz 2>&1\n",
        "', intern=T), sep=\"\\n\")"
      ]
    },
    {
      "cell_type": "markdown",
      "metadata": {
        "id": "kmF9G_UCMWxD"
      },
      "source": [
        "**Step 2:** Install CrossMap using `pip3 install` and look at the help page"
      ]
    },
    {
      "cell_type": "code",
      "execution_count": null,
      "metadata": {
        "cellView": "form",
        "id": "wQCE1ubnM5QA"
      },
      "outputs": [],
      "source": [
        "#@title Install CrossMap\n",
        "cat(system('pip3 install CrossMap', intern=T), sep=\"\\n\")\n",
        "cat(system('CrossMap.py --help 2>&1', intern=T), sep=\"\\n\")"
      ]
    },
    {
      "cell_type": "markdown",
      "metadata": {
        "id": "T1BhlIC6W20S"
      },
      "source": [
        "As you can see, CrossMap supports multiple input formats. We are going to use `bed` as it is the easiest to use. This format is composed of 3 mandatory, tab-separated columns, and an arbitrary number of columns afterwards. The 3 columns are `chr`, `pos-1`, `pos`. We say that the second column is '0-based' while the third one is '1-based'."
      ]
    },
    {
      "cell_type": "markdown",
      "metadata": {
        "id": "sye19D6UW6go"
      },
      "source": [
        "**Step 3**:\n",
        "- Download the CAD score from https://ftp.ebi.ac.uk/pub/databases/spot/pgs/scores/PGS000337/ScoringFiles/PGS000337.txt.gz\n",
        "- Read it in R\n",
        "- Make it compatible with the BED format.\n",
        "- Export the file to `cad.bed` (without the column names)"
      ]
    },
    {
      "cell_type": "code",
      "execution_count": null,
      "metadata": {
        "cellView": "form",
        "id": "zdUqLXj0N4pI"
      },
      "outputs": [],
      "source": [
        "#@title Download score and make bed file\n",
        "cat(system('wget https://ftp.ebi.ac.uk/pub/databases/spot/pgs/scores/PGS000337/ScoringFiles/PGS000337.txt.gz', intern=T), sep=\"\\n\")\n",
        "cadscore = read.table(gzfile(\"PGS000337.txt.gz\"), header = TRUE)\n",
        "cadscore$start <- cadscore$chr_position-1\n",
        "cadscore <- cadscore[,c(\"chr_name\", \"start\", \"chr_position\", \"effect_allele\", \"effect_weight\", \"variant_description\")]\n",
        "write.table(cadscore, \"cad.bed\", col.names = F, row.names = F, quote = F, sep = \"\\t\")"
      ]
    },
    {
      "cell_type": "markdown",
      "metadata": {
        "id": "PjHS2EtMW_gM"
      },
      "source": [
        "**Step 4**: Use CrossMap bed to convert the positions in the CAD score from build 37 to build 38."
      ]
    },
    {
      "cell_type": "code",
      "execution_count": null,
      "metadata": {
        "cellView": "form",
        "id": "D31fnr9kXBk-"
      },
      "outputs": [],
      "source": [
        "#@title Convert the positions\n",
        "cat(system('CrossMap.py bed hg19ToHg38.over.chain.gz cad.bed cad.38.bed 2>&1', intern=T), sep=\"\\n\")"
      ]
    },
    {
      "cell_type": "markdown",
      "metadata": {
        "id": "bVFouKv-XEAR"
      },
      "source": [
        "**Step 5**:\n",
        "- Read in the lifted over file\n",
        "- Remove the second column (pos - 1),\n",
        "- Remove any position that maps outside of the autosomes (chr1-chr22),\n",
        "- Check that no variant maps to several positions on build 38."
      ]
    },
    {
      "cell_type": "code",
      "execution_count": null,
      "metadata": {
        "cellView": "form",
        "id": "PscNaBDPP612"
      },
      "outputs": [],
      "source": [
        "#@title Import the lifted positions and keep only autosomes\n",
        "liftedover = read.table(\"cad.38.bed\")\n",
        "colnames(liftedover) <- colnames(cadscore)\n",
        "liftedover = liftedover[,-which(colnames(liftedover) == \"start\")]\n",
        "dim(liftedover)\n",
        "#Remove the positions not mapping to chromosomes 1 to 22\n",
        "liftedover <- subset(liftedover, chr_name %in% 1:22)\n",
        "dim(liftedover)"
      ]
    },
    {
      "cell_type": "code",
      "execution_count": null,
      "metadata": {
        "cellView": "form",
        "id": "alraV9OwXJAR"
      },
      "outputs": [],
      "source": [
        "#@title Do variants map to several positions ?\n",
        "nb.positions <- table(liftedover$variant_description)\n",
        "head(nb.positions)\n",
        "table(nb.positions)\n",
        "#All of the variants map only to one position --> ok"
      ]
    },
    {
      "cell_type": "markdown",
      "metadata": {
        "id": "sh5Wnw_GXHde"
      },
      "source": [
        "**Step 6**: Create a tab-separated, headerless score file for your lifted over CAD score, with the following columns :\n",
        "\n",
        "*   `id` which has the form chr1:1234\n",
        "*   `effect_allele`\n",
        "*   `effect_weight`\n",
        "\n",
        "Export the file to `CAD.score`. This file corresponds to what we used in the first part of this workshop."
      ]
    },
    {
      "cell_type": "code",
      "execution_count": null,
      "metadata": {
        "cellView": "form",
        "id": "t-egx6_YR8oo"
      },
      "outputs": [],
      "source": [
        "#@title Create the final file\n",
        "cadscore=liftedover\n",
        "cadscore$id = paste0(cadscore$chr_name, \":\", cadscore$chr_position)\n",
        "write.table(cadscore[,c(\"id\", \"effect_allele\", \"effect_weight\")], \"CAD.score\", sep =\"\\t\", col.names = F, row.names = F, quote = F)\n",
        "write.table(cadscore, \"CAD.score\", sep =\"\\t\", col.names = F, row.names = F, quote = F)"
      ]
    }
  ],
  "metadata": {
    "colab": {
      "collapsed_sections": [
        "24Ilbze6VNQj",
        "KujnAQgeYQ_a"
      ],
      "provenance": []
    },
    "kernelspec": {
      "display_name": "R",
      "name": "ir"
    },
    "language_info": {
      "name": "R"
    }
  },
  "nbformat": 4,
  "nbformat_minor": 0
}